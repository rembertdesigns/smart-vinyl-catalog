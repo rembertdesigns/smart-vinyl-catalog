{
 "cells": [
  {
   "cell_type": "code",
   "execution_count": 2,
   "id": "af6f87a9",
   "metadata": {},
   "outputs": [
    {
     "name": "stdout",
     "output_type": "stream",
     "text": [
      "✅ All imports successful\n"
     ]
    }
   ],
   "source": [
    "# Setup Cell 1 - Imports\n",
    "import pandas as pd\n",
    "import numpy as np\n",
    "import xml.etree.ElementTree as ET\n",
    "import gzip\n",
    "import requests\n",
    "from pathlib import Path\n",
    "import sqlite3\n",
    "import json\n",
    "import re\n",
    "import warnings\n",
    "from typing import Dict, List, Optional, Union\n",
    "import matplotlib.pyplot as plt\n",
    "import seaborn as sns\n",
    "from datetime import datetime\n",
    "import os\n",
    "import time\n",
    "\n",
    "print(\"✅ All imports successful\")"
   ]
  },
  {
   "cell_type": "code",
   "execution_count": 3,
   "id": "d7441938",
   "metadata": {},
   "outputs": [
    {
     "name": "stdout",
     "output_type": "stream",
     "text": [
      "✅ Display options configured\n"
     ]
    }
   ],
   "source": [
    "# Setup Cell 2 - Configure display and warnings\n",
    "pd.set_option('display.max_columns', None)\n",
    "pd.set_option('display.max_rows', 100)\n",
    "warnings.filterwarnings('ignore')\n",
    "\n",
    "# Set plot style\n",
    "plt.style.use('default')  # Use default if seaborn issues\n",
    "sns.set_palette(\"husl\")\n",
    "\n",
    "print(\"✅ Display options configured\")"
   ]
  },
  {
   "cell_type": "code",
   "execution_count": 4,
   "id": "f5019da3",
   "metadata": {},
   "outputs": [
    {
     "name": "stdout",
     "output_type": "stream",
     "text": [
      "📁 Project root: /Users/richpointofview/smart-vinyl-catalog\n",
      "📁 Data directory: /Users/richpointofview/smart-vinyl-catalog/data\n",
      "📁 Discogs directory: /Users/richpointofview/smart-vinyl-catalog/data/discogs\n",
      "📁 Processed directory: /Users/richpointofview/smart-vinyl-catalog/data/processed\n",
      "✅ Directory structure created\n"
     ]
    }
   ],
   "source": [
    "# Setup Cell 3 - Project paths\n",
    "PROJECT_ROOT = Path.cwd().parent if Path.cwd().name == 'notebooks' else Path.cwd()\n",
    "DATA_DIR = PROJECT_ROOT / 'data'\n",
    "DISCOGS_DIR = DATA_DIR / 'discogs'\n",
    "PROCESSED_DIR = DATA_DIR / 'processed'\n",
    "RAW_DIR = DATA_DIR / 'raw'\n",
    "\n",
    "# Create directories\n",
    "DISCOGS_DIR.mkdir(parents=True, exist_ok=True)\n",
    "PROCESSED_DIR.mkdir(parents=True, exist_ok=True)\n",
    "RAW_DIR.mkdir(parents=True, exist_ok=True)\n",
    "\n",
    "print(f\"📁 Project root: {PROJECT_ROOT}\")\n",
    "print(f\"📁 Data directory: {DATA_DIR}\")\n",
    "print(f\"📁 Discogs directory: {DISCOGS_DIR}\")\n",
    "print(f\"📁 Processed directory: {PROCESSED_DIR}\")\n",
    "print(\"✅ Directory structure created\")"
   ]
  },
  {
   "cell_type": "code",
   "execution_count": null,
   "id": "32992504",
   "metadata": {},
   "outputs": [],
   "source": [
    "# Cell 1 - Load Existing Catalog\n",
    "# Load the FMA-integrated catalog from the previous notebook\n",
    "\n",
    "# Load existing FMA catalog\n",
    "fma_catalog_path = PROCESSED_DIR / 'fma_integrated.csv'\n",
    "\n",
    "if fma_catalog_path.exists():\n",
    "    existing_catalog = pd.read_csv(fma_catalog_path)\n",
    "    print(f\"✅ Loaded existing catalog: {len(existing_catalog):,} tracks\")\n",
    "    \n",
    "    # Check if source column exists, if not add it\n",
    "    if 'source' not in existing_catalog.columns:\n",
    "        existing_catalog['source'] = 'fma_data'  # Default source for FMA data\n",
    "        print(\"📝 Added 'source' column (set to 'fma_data')\")\n",
    "    \n",
    "    print(f\"📊 Sources: {existing_catalog['source'].value_counts().to_dict()}\")\n",
    "    \n",
    "    # Display basic stats\n",
    "    print(f\"\\n📈 Catalog Statistics:\")\n",
    "    print(f\"   🎵 Unique genres: {existing_catalog['genre'].nunique() if 'genre' in existing_catalog.columns else 'N/A'}\")\n",
    "    print(f\"   🎤 Unique artists: {existing_catalog['artist'].nunique() if 'artist' in existing_catalog.columns else 'N/A'}\")\n",
    "    print(f\"   ⭐ Average rating: {existing_catalog['rating'].mean():.2f}\" if 'rating' in existing_catalog.columns else \"   ⭐ No ratings available\")\n",
    "    print(f\"   📅 Year range: {existing_catalog['year'].min():.0f} - {existing_catalog['year'].max():.0f}\" if 'year' in existing_catalog.columns else \"   📅 No year data\")\n",
    "    \n",
    "else:\n",
    "    print(\"⚠️  FMA catalog not found. Creating sample catalog for demonstration.\")\n",
    "    # Create sample data that matches FMA structure\n",
    "    existing_catalog = pd.DataFrame({\n",
    "        'track_id': range(100),\n",
    "        'title': [f'Sample Track {i+1}' for i in range(100)],\n",
    "        'artist': ['Various Artists'] * 100,\n",
    "        'genre': np.random.choice(['Electronic', 'Rock', 'Jazz', 'Folk'], 100),\n",
    "        'rating': np.random.normal(3.5, 0.8, 100),\n",
    "        'year': np.random.randint(1990, 2024, 100),\n",
    "        'duration': np.random.randint(120, 400, 100),\n",
    "        'plays': np.random.randint(100, 10000, 100),\n",
    "        'favorites': np.random.randint(10, 1000, 100),\n",
    "        'source': 'sample_data'\n",
    "    })\n",
    "    print(f\"📝 Created sample catalog: {len(existing_catalog)} tracks\")\n",
    "\n",
    "# Display sample\n",
    "print(f\"\\n🔍 Existing catalog sample:\")\n",
    "display(existing_catalog.head())\n",
    "\n",
    "print(f\"\\n📋 Column info:\")\n",
    "print(f\"   Columns: {list(existing_catalog.columns)}\")\n",
    "print(f\"   Shape: {existing_catalog.shape}\")\n",
    "print(f\"   Memory usage: {existing_catalog.memory_usage(deep=True).sum() / 1024 / 1024:.1f} MB\")"
   ]
  }
 ],
 "metadata": {
  "kernelspec": {
   "display_name": "Python 3",
   "language": "python",
   "name": "python3"
  },
  "language_info": {
   "codemirror_mode": {
    "name": "ipython",
    "version": 3
   },
   "file_extension": ".py",
   "mimetype": "text/x-python",
   "name": "python",
   "nbconvert_exporter": "python",
   "pygments_lexer": "ipython3",
   "version": "3.12.4"
  }
 },
 "nbformat": 4,
 "nbformat_minor": 5
}
