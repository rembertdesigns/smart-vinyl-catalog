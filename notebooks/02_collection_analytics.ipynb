{
 "cells": [
  {
   "cell_type": "code",
   "execution_count": null,
   "id": "00343e9d",
   "metadata": {},
   "outputs": [],
   "source": [
    "# Collection Timeline and Spending Analysis\n",
    "import pandas as pd\n",
    "import matplotlib.pyplot as plt\n",
    "import seaborn as sns\n",
    "from datetime import datetime\n",
    "import sys\n",
    "sys.path.append('../src')\n",
    "\n",
    "from dotenv import load_dotenv\n",
    "load_dotenv('../.env')\n",
    "\n",
    "from google.cloud import bigquery\n",
    "from config.bigquery_config import config\n",
    "\n",
    "client = config.get_client()\n",
    "\n",
    "# Collection value over time\n",
    "timeline_query = \"\"\"\n",
    "SELECT \n",
    "    pc.purchase_date,\n",
    "    pc.purchase_price,\n",
    "    dr.title,\n",
    "    dr.artist,\n",
    "    pc.condition,\n",
    "    pc.personal_rating,\n",
    "    SUM(pc.purchase_price) OVER (ORDER BY pc.purchase_date) as cumulative_value\n",
    "FROM `vinyl_catalog.personal_collection` pc\n",
    "JOIN `vinyl_catalog.discogs_releases` dr ON pc.release_id = dr.release_id\n",
    "ORDER BY pc.purchase_date\n",
    "\"\"\"\n",
    "\n",
    "timeline_data = client.query(timeline_query).to_dataframe()\n",
    "print(\"Collection Timeline:\")\n",
    "print(timeline_data.to_string(index=False))"
   ]
  }
 ],
 "metadata": {
  "language_info": {
   "name": "python"
  }
 },
 "nbformat": 4,
 "nbformat_minor": 5
}
