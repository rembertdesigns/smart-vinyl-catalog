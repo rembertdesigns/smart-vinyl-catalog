{
 "cells": [
  {
   "cell_type": "code",
   "execution_count": 1,
   "id": "00343e9d",
   "metadata": {},
   "outputs": [
    {
     "name": "stdout",
     "output_type": "stream",
     "text": [
      "Collection Timeline:\n",
      "purchase_date  purchase_price          title              artist condition  personal_rating  cumulative_value\n",
      "   2020-02-27              28   Kind of Blue         Miles Davis       VG+                9                28\n",
      "   2020-05-17              45 A Love Supreme       John Coltrane      Mint               10                73\n",
      "   2020-09-28              35    Giant Steps       John Coltrane        VG                9               108\n",
      "   2021-02-05              32     Blue Train       John Coltrane Near Mint                8               140\n",
      "   2021-06-15              25 Somethin' Else Cannonball Adderley     Good+                8               165\n"
     ]
    }
   ],
   "source": [
    "# Collection Timeline and Spending Analysis\n",
    "import pandas as pd\n",
    "import matplotlib.pyplot as plt\n",
    "import seaborn as sns\n",
    "from datetime import datetime\n",
    "import sys\n",
    "sys.path.append('../src')\n",
    "\n",
    "from dotenv import load_dotenv\n",
    "load_dotenv('../.env')\n",
    "\n",
    "from google.cloud import bigquery\n",
    "from config.bigquery_config import config\n",
    "\n",
    "client = config.get_client()\n",
    "\n",
    "# Collection value over time\n",
    "timeline_query = \"\"\"\n",
    "SELECT \n",
    "    pc.purchase_date,\n",
    "    pc.purchase_price,\n",
    "    dr.title,\n",
    "    dr.artist,\n",
    "    pc.condition,\n",
    "    pc.personal_rating,\n",
    "    SUM(pc.purchase_price) OVER (ORDER BY pc.purchase_date) as cumulative_value\n",
    "FROM `vinyl_catalog.personal_collection` pc\n",
    "JOIN `vinyl_catalog.discogs_releases` dr ON pc.release_id = dr.release_id\n",
    "ORDER BY pc.purchase_date\n",
    "\"\"\"\n",
    "\n",
    "timeline_data = client.query(timeline_query).to_dataframe()\n",
    "print(\"Collection Timeline:\")\n",
    "print(timeline_data.to_string(index=False))"
   ]
  },
  {
   "cell_type": "code",
   "execution_count": null,
   "id": "7bba913a",
   "metadata": {},
   "outputs": [],
   "source": [
    "# Create collection visualizations\n",
    "plt.style.use('seaborn-v0_8')\n",
    "fig, ((ax1, ax2), (ax3, ax4)) = plt.subplots(2, 2, figsize=(15, 12))\n",
    "\n",
    "# 1. Collection value over time\n",
    "timeline_data['purchase_date'] = pd.to_datetime(timeline_data['purchase_date'])\n",
    "ax1.plot(timeline_data['purchase_date'], timeline_data['cumulative_value'], \n",
    "         marker='o', linewidth=2, markersize=8)\n",
    "ax1.set_title('Collection Value Growth Over Time')\n",
    "ax1.set_ylabel('Cumulative Value ($)')\n",
    "ax1.grid(True, alpha=0.3)\n",
    "\n",
    "# 2. Price by condition\n",
    "condition_data = timeline_data.groupby('condition')['purchase_price'].mean().sort_values(ascending=False)\n",
    "ax2.bar(condition_data.index, condition_data.values, color='skyblue')\n",
    "ax2.set_title('Average Price by Condition')\n",
    "ax2.set_ylabel('Price ($)')\n",
    "ax2.tick_params(axis='x', rotation=45)\n",
    "\n",
    "# 3. Personal rating vs purchase price\n",
    "ax3.scatter(timeline_data['purchase_price'], timeline_data['personal_rating'], \n",
    "           s=100, alpha=0.7, color='orange')\n",
    "ax3.set_xlabel('Purchase Price ($)')\n",
    "ax3.set_ylabel('Personal Rating (1-10)')\n",
    "ax3.set_title('Price vs Personal Rating')\n",
    "ax3.grid(True, alpha=0.3)\n",
    "\n",
    "# 4. Artist frequency\n",
    "artist_counts = timeline_data['artist'].value_counts()\n",
    "ax4.pie(artist_counts.values, labels=artist_counts.index, autopct='%1.1f%%', startangle=90)\n",
    "ax4.set_title('Collection by Artist')\n",
    "\n",
    "plt.tight_layout()\n",
    "plt.show()\n",
    "\n",
    "print(f\"Total collection value: ${timeline_data['cumulative_value'].iloc[-1]}\")\n",
    "print(f\"Average price per album: ${timeline_data['purchase_price'].mean():.2f}\")\n",
    "print(f\"Price range: ${timeline_data['purchase_price'].min()} - ${timeline_data['purchase_price'].max()}\")"
   ]
  }
 ],
 "metadata": {
  "kernelspec": {
   "display_name": "Python 3",
   "language": "python",
   "name": "python3"
  },
  "language_info": {
   "codemirror_mode": {
    "name": "ipython",
    "version": 3
   },
   "file_extension": ".py",
   "mimetype": "text/x-python",
   "name": "python",
   "nbconvert_exporter": "python",
   "pygments_lexer": "ipython3",
   "version": "3.12.4"
  }
 },
 "nbformat": 4,
 "nbformat_minor": 5
}
