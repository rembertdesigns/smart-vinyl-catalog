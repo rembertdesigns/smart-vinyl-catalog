{
 "cells": [
  {
   "cell_type": "code",
   "execution_count": 1,
   "id": "787f7d39",
   "metadata": {},
   "outputs": [
    {
     "name": "stdout",
     "output_type": "stream",
     "text": [
      "🎵 Smart Vinyl Catalog - Data Exploration\n",
      "==================================================\n"
     ]
    }
   ],
   "source": [
    "\"\"\"\n",
    "# Smart Vinyl Catalog - Data Exploration\n",
    "## Sprint 1: Foundation & Data Pipeline\n",
    "\"\"\"\n",
    "import os\n",
    "import sys\n",
    "sys.path.append('../src')\n",
    "\n",
    "from dotenv import load_dotenv\n",
    "load_dotenv()\n",
    "\n",
    "from google.cloud import bigquery\n",
    "from config.bigquery_config import config\n",
    "\n",
    "print(\"🎵 Smart Vinyl Catalog - Data Exploration\")\n",
    "print(\"=\" * 50)"
   ]
  },
  {
   "cell_type": "code",
   "execution_count": 2,
   "id": "2eb486fc",
   "metadata": {},
   "outputs": [
    {
     "name": "stdout",
     "output_type": "stream",
     "text": [
      "❌ BigQuery connection failed: [Errno 2] No such file or directory: './service-account-key.json'\n"
     ]
    }
   ],
   "source": [
    "# Test BigQuery connection\n",
    "try:\n",
    "    client = config.get_client()\n",
    "    print(f\"✅ Connected to BigQuery project: {config.project_id}\")\n",
    "    \n",
    "    # List datasets\n",
    "    datasets = list(client.list_datasets())\n",
    "    print(f\"Available datasets: {len(datasets)}\")\n",
    "    for dataset in datasets:\n",
    "        print(f\"  - {dataset.dataset_id}\")\n",
    "        \n",
    "except Exception as e:\n",
    "    print(f\"❌ BigQuery connection failed: {e}\")"
   ]
  },
  {
   "cell_type": "code",
   "execution_count": 3,
   "id": "12d121e2",
   "metadata": {},
   "outputs": [
    {
     "name": "stdout",
     "output_type": "stream",
     "text": [
      "⚠️ AI test result: name 'client' is not defined\n",
      "This is normal - AI features may need a moment to activate\n"
     ]
    }
   ],
   "source": [
    "# Test AI capabilities\n",
    "query = \"\"\"\n",
    "SELECT AI.GENERATE_TEXT(\n",
    "  'Write a short description of jazz music',\n",
    "  'temperature', 0.3\n",
    ") AS jazz_description\n",
    "\"\"\"\n",
    "\n",
    "try:\n",
    "    result = client.query(query).to_dataframe()\n",
    "    print(\"🤖 AI Generation Test Success!\")\n",
    "    print(result['jazz_description'].iloc[0])\n",
    "except Exception as e:\n",
    "    print(f\"⚠️ AI test result: {e}\")\n",
    "    print(\"This is normal - AI features may need a moment to activate\")"
   ]
  }
 ],
 "metadata": {
  "kernelspec": {
   "display_name": "Python 3",
   "language": "python",
   "name": "python3"
  },
  "language_info": {
   "codemirror_mode": {
    "name": "ipython",
    "version": 3
   },
   "file_extension": ".py",
   "mimetype": "text/x-python",
   "name": "python",
   "nbconvert_exporter": "python",
   "pygments_lexer": "ipython3",
   "version": "3.12.4"
  }
 },
 "nbformat": 4,
 "nbformat_minor": 5
}
