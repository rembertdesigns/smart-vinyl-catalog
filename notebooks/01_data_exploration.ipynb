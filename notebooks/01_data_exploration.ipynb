{
 "cells": [
  {
   "cell_type": "code",
   "execution_count": 1,
   "id": "787f7d39",
   "metadata": {},
   "outputs": [
    {
     "name": "stdout",
     "output_type": "stream",
     "text": [
      "Notebook directory: /Users/richpointofview/smart-vinyl-catalog/notebooks\n",
      "Project root: /Users/richpointofview/smart-vinyl-catalog\n",
      "🎵 Smart Vinyl Catalog - Data Exploration\n",
      "==================================================\n"
     ]
    }
   ],
   "source": [
    "\"\"\"\n",
    "# Smart Vinyl Catalog - Data Exploration\n",
    "## Sprint 1: Foundation & Data Pipeline\n",
    "\"\"\"\n",
    "import os\n",
    "import sys\n",
    "\n",
    "# Add project root to path\n",
    "notebook_dir = os.getcwd()\n",
    "project_root = os.path.dirname(notebook_dir)\n",
    "sys.path.insert(0, os.path.join(project_root, 'src'))\n",
    "\n",
    "print(f\"Notebook directory: {notebook_dir}\")\n",
    "print(f\"Project root: {project_root}\")\n",
    "\n",
    "# Load environment from project root\n",
    "from dotenv import load_dotenv\n",
    "load_dotenv(os.path.join(project_root, '.env'))\n",
    "\n",
    "from google.cloud import bigquery\n",
    "from config.bigquery_config import config\n",
    "\n",
    "print(\"🎵 Smart Vinyl Catalog - Data Exploration\")\n",
    "print(\"=\" * 50)"
   ]
  },
  {
   "cell_type": "code",
   "execution_count": 2,
   "id": "2eb486fc",
   "metadata": {},
   "outputs": [
    {
     "name": "stdout",
     "output_type": "stream",
     "text": [
      "✅ Connected to BigQuery project: smart-vinyl-catalog\n",
      "✅ Basic query test passed\n",
      "Available datasets: 0\n"
     ]
    }
   ],
   "source": [
    "# Test BigQuery connection with better error handling\n",
    "try:\n",
    "    client = config.get_client()\n",
    "    print(f\"✅ Connected to BigQuery project: {config.project_id}\")\n",
    "    \n",
    "    # Test basic query first\n",
    "    test_query = \"SELECT 1 as test_number\"\n",
    "    test_result = client.query(test_query).to_dataframe()\n",
    "    print(\"✅ Basic query test passed\")\n",
    "    \n",
    "    # List datasets\n",
    "    datasets = list(client.list_datasets())\n",
    "    print(f\"Available datasets: {len(datasets)}\")\n",
    "    for dataset in datasets:\n",
    "        print(f\"  - {dataset.dataset_id}\")\n",
    "        \n",
    "except Exception as e:\n",
    "    print(f\"❌ BigQuery connection failed: {e}\")\n",
    "    print(f\"Project ID: {config.project_id}\")\n",
    "    print(f\"Credentials path: {os.getenv('GOOGLE_APPLICATION_CREDENTIALS')}\")"
   ]
  },
  {
   "cell_type": "code",
   "execution_count": 3,
   "id": "12d121e2",
   "metadata": {},
   "outputs": [
    {
     "name": "stdout",
     "output_type": "stream",
     "text": [
      "⚠️ AI test result: 400 Table-valued function is not expected here: AI.GENERATE_TEXT; Did you mean ai.generate_int? at [2:8]; reason: invalidQuery, location: query, message: Table-valued function is not expected here: AI.GENERATE_TEXT; Did you mean ai.generate_int? at [2:8]\n",
      "\n",
      "Location: US\n",
      "Job ID: 4766d38a-f350-4c8b-975c-684c415c6c90\n",
      "\n",
      "This is normal - AI features may need a moment to activate\n"
     ]
    }
   ],
   "source": [
    "# Test AI capabilities\n",
    "query = \"\"\"\n",
    "SELECT AI.GENERATE_TEXT(\n",
    "  'Write a short description of jazz music',\n",
    "  'temperature', 0.3\n",
    ") AS jazz_description\n",
    "\"\"\"\n",
    "\n",
    "try:\n",
    "    result = client.query(query).to_dataframe()\n",
    "    print(\"🤖 AI Generation Test Success!\")\n",
    "    print(result['jazz_description'].iloc[0])\n",
    "except Exception as e:\n",
    "    print(f\"⚠️ AI test result: {e}\")\n",
    "    print(\"This is normal - AI features may need a moment to activate\")"
   ]
  },
  {
   "cell_type": "code",
   "execution_count": null,
   "id": "6b880816",
   "metadata": {},
   "outputs": [],
   "source": [
    "# Create dataset and tables\n",
    "from google.cloud import bigquery\n",
    "\n",
    "def create_dataset_and_tables():\n",
    "    dataset_id = f\"{client.project}.vinyl_catalog\"\n",
    "    \n",
    "    # Create dataset\n",
    "    try:\n",
    "        dataset = bigquery.Dataset(dataset_id)\n",
    "        dataset.location = \"US\"\n",
    "        dataset = client.create_dataset(dataset)\n",
    "        print(f\"✅ Created dataset: vinyl_catalog\")\n",
    "    except Exception as e:\n",
    "        if \"Already Exists\" in str(e):\n",
    "            print(f\"✅ Dataset vinyl_catalog already exists\")\n",
    "        else:\n",
    "            print(f\"Dataset creation error: {e}\")\n",
    "    \n",
    "    # Define table schemas\n",
    "    tables_to_create = [\n",
    "        ('discogs_releases', [\n",
    "            bigquery.SchemaField('release_id', 'STRING'),\n",
    "            bigquery.SchemaField('title', 'STRING'),\n",
    "            bigquery.SchemaField('artist', 'STRING'),\n",
    "            bigquery.SchemaField('year', 'INTEGER'),\n",
    "            bigquery.SchemaField('genre', 'STRING'),\n",
    "            bigquery.SchemaField('style', 'STRING'),\n",
    "            bigquery.SchemaField('label', 'STRING'),\n",
    "            bigquery.SchemaField('country', 'STRING')\n",
    "        ]),\n",
    "        ('album_reviews', [\n",
    "            bigquery.SchemaField('album_id', 'STRING'),\n",
    "            bigquery.SchemaField('album_title', 'STRING'),\n",
    "            bigquery.SchemaField('artist', 'STRING'),\n",
    "            bigquery.SchemaField('review_text', 'STRING'),\n",
    "            bigquery.SchemaField('rating', 'FLOAT'),\n",
    "            bigquery.SchemaField('review_source', 'STRING')\n",
    "        ])\n",
    "    ]\n",
    "    \n",
    "    # Create tables\n",
    "    for table_name, schema in tables_to_create:\n",
    "        table_id = f\"{client.project}.vinyl_catalog.{table_name}\"\n",
    "        table = bigquery.Table(table_id, schema=schema)\n",
    "        \n",
    "        try:\n",
    "            table = client.create_table(table)\n",
    "            print(f\"✅ Created table: {table_name}\")\n",
    "        except Exception as e:\n",
    "            if \"Already Exists\" in str(e):\n",
    "                print(f\"✅ Table {table_name} already exists\")\n",
    "            else:\n",
    "                print(f\"Table creation error: {e}\")\n",
    "\n",
    "create_dataset_and_tables()"
   ]
  }
 ],
 "metadata": {
  "kernelspec": {
   "display_name": "Python 3",
   "language": "python",
   "name": "python3"
  },
  "language_info": {
   "codemirror_mode": {
    "name": "ipython",
    "version": 3
   },
   "file_extension": ".py",
   "mimetype": "text/x-python",
   "name": "python",
   "nbconvert_exporter": "python",
   "pygments_lexer": "ipython3",
   "version": "3.12.4"
  }
 },
 "nbformat": 4,
 "nbformat_minor": 5
}
