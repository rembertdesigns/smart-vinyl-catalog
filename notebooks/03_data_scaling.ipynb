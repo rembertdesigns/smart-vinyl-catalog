{
 "cells": [
  {
   "cell_type": "code",
   "execution_count": null,
   "id": "b8a47fd7",
   "metadata": {},
   "outputs": [],
   "source": [
    "\"\"\"\n",
    "# Sprint 3: Data Scaling & Real Dataset Integration\n",
    "## Smart Vinyl Catalog - Production Scale Implementation\n",
    "\n",
    "Moving from 5-album demo to production-scale catalog with real data sources.\n",
    "\"\"\"\n",
    "\n",
    "import pandas as pd\n",
    "import numpy as np\n",
    "import matplotlib.pyplot as plt\n",
    "import requests\n",
    "import os\n",
    "import sys\n",
    "\n",
    "# Setup paths and imports\n",
    "notebook_dir = os.getcwd()\n",
    "project_root = os.path.dirname(notebook_dir)\n",
    "sys.path.insert(0, os.path.join(project_root, 'src'))\n",
    "\n",
    "from dotenv import load_dotenv\n",
    "load_dotenv(os.path.join(project_root, '.env'))\n",
    "\n",
    "from google.cloud import bigquery\n",
    "from config.bigquery_config import config\n",
    "\n",
    "client = config.get_client()\n",
    "\n",
    "print(\"Sprint 3: Scaling Up to Production Data\")\n",
    "print(\"=\" * 50)\n",
    "print(\"Target: 100+ albums, realistic review data, advanced AI processing\")"
   ]
  }
 ],
 "metadata": {
  "language_info": {
   "name": "python"
  }
 },
 "nbformat": 4,
 "nbformat_minor": 5
}
